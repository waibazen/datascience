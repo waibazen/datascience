{
 "cells": [
  {
   "cell_type": "code",
   "execution_count": 69,
   "source": [
    "\r\n",
    "array=[1,2,3,4,11,7,22,23,27,28,29,30,31,3,35,36,37,38,39,40]\r\n",
    "numbers={x:0 for x in array}\r\n",
    "    "
   ],
   "outputs": [],
   "metadata": {}
  },
  {
   "cell_type": "code",
   "execution_count": 62,
   "source": [
    "print(numbers)"
   ],
   "outputs": [
    {
     "output_type": "stream",
     "name": "stdout",
     "text": [
      "{1: 0, 2: 0, 3: 0, 4: 0, 11: 0, 7: 0, 22: 0, 23: 0, 27: 0, 28: 0, 29: 0, 30: 0, 31: 0, 35: 0, 36: 0, 37: 0, 38: 0, 39: 0, 40: 0}\n"
     ]
    }
   ],
   "metadata": {}
  },
  {
   "cell_type": "code",
   "execution_count": 63,
   "source": [
    "type(numbers)"
   ],
   "outputs": [
    {
     "output_type": "execute_result",
     "data": {
      "text/plain": [
       "dict"
      ]
     },
     "metadata": {},
     "execution_count": 63
    }
   ],
   "metadata": {}
  },
  {
   "cell_type": "code",
   "execution_count": 70,
   "source": [
    "def largestRange(array):\r\n",
    "    numbers={x:0 for x in array}#create a hash table ,basically a dictionary\r\n",
    "    left=right=0\r\n",
    "    for number in array:#create a loop in dictionary for every key value pair\r\n",
    "        if numbers[number]==0:\r\n",
    "            left_count=number-1\r\n",
    "            right_count=number+1\r\n",
    "            while left_count in numbers:\r\n",
    "                numbers[left_count]=1#assign a checked value for the key\r\n",
    "                left_count-=1\r\n",
    "            left_count+=1\r\n",
    "            while right_count in numbers:\r\n",
    "                numbers[right_count]=1\r\n",
    "                right_count+=1\r\n",
    "            right_count-=1\r\n",
    "        if(right-left)<=(right_count-left_count):#checking if the last range is still less than current range,if not then loop out\r\n",
    "            right=right_count\r\n",
    "            left=left_count\r\n",
    "    return [left,right]\r\n"
   ],
   "outputs": [],
   "metadata": {}
  },
  {
   "cell_type": "code",
   "execution_count": 71,
   "source": [
    "largestRange(array)"
   ],
   "outputs": [
    {
     "output_type": "execute_result",
     "data": {
      "text/plain": [
       "[35, 40]"
      ]
     },
     "metadata": {},
     "execution_count": 71
    }
   ],
   "metadata": {}
  },
  {
   "cell_type": "code",
   "execution_count": 72,
   "source": [
    "zz=largestRange(array)"
   ],
   "outputs": [],
   "metadata": {}
  },
  {
   "cell_type": "code",
   "execution_count": 67,
   "source": [
    "type(largestRange(array))"
   ],
   "outputs": [
    {
     "output_type": "execute_result",
     "data": {
      "text/plain": [
       "list"
      ]
     },
     "metadata": {},
     "execution_count": 67
    }
   ],
   "metadata": {}
  },
  {
   "cell_type": "code",
   "execution_count": 73,
   "source": [
    "\r\n",
    "newlist=[x for x in range(zz[0],zz[1]+1)]"
   ],
   "outputs": [],
   "metadata": {}
  },
  {
   "cell_type": "code",
   "execution_count": 74,
   "source": [
    "newlist"
   ],
   "outputs": [
    {
     "output_type": "execute_result",
     "data": {
      "text/plain": [
       "[35, 36, 37, 38, 39, 40]"
      ]
     },
     "metadata": {},
     "execution_count": 74
    }
   ],
   "metadata": {}
  }
 ],
 "metadata": {
  "orig_nbformat": 4,
  "language_info": {
   "name": "python",
   "version": "3.8.8",
   "mimetype": "text/x-python",
   "codemirror_mode": {
    "name": "ipython",
    "version": 3
   },
   "pygments_lexer": "ipython3",
   "nbconvert_exporter": "python",
   "file_extension": ".py"
  },
  "kernelspec": {
   "name": "python3",
   "display_name": "Python 3.8.8 64-bit ('base': conda)"
  },
  "interpreter": {
   "hash": "3187c250c483efdde8c5c0deee7dc01afe085a7d18850755f3ebaab9e705eb18"
  }
 },
 "nbformat": 4,
 "nbformat_minor": 2
}