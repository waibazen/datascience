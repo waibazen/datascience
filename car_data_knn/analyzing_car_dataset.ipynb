{
 "cells": [
  {
   "cell_type": "code",
   "execution_count": 1,
   "source": [
    "\r\n",
    "\r\n",
    "#importing all the required modules\r\n",
    "import sklearn\r\n",
    "from sklearn.utils import shuffle\r\n",
    "from sklearn.neighbors import KNeighborsClassifier\r\n",
    "import numpy as np\r\n",
    "import pandas as pd\r\n",
    "from sklearn import linear_model,preprocessing"
   ],
   "outputs": [],
   "metadata": {}
  },
  {
   "cell_type": "code",
   "execution_count": 2,
   "source": [
    "data=pd.read_csv('car.data')#extracting car data from our local directory"
   ],
   "outputs": [],
   "metadata": {}
  },
  {
   "cell_type": "code",
   "execution_count": 10,
   "source": [
    "data.head()#first look"
   ],
   "outputs": [
    {
     "output_type": "execute_result",
     "data": {
      "text/plain": [
       "   vhigh vhigh.1  2 2.1  small   low  unacc\n",
       "0  vhigh   vhigh  2   2  small   med  unacc\n",
       "1  vhigh   vhigh  2   2  small  high  unacc\n",
       "2  vhigh   vhigh  2   2    med   low  unacc\n",
       "3  vhigh   vhigh  2   2    med   med  unacc\n",
       "4  vhigh   vhigh  2   2    med  high  unacc"
      ],
      "text/html": [
       "<div>\n",
       "<style scoped>\n",
       "    .dataframe tbody tr th:only-of-type {\n",
       "        vertical-align: middle;\n",
       "    }\n",
       "\n",
       "    .dataframe tbody tr th {\n",
       "        vertical-align: top;\n",
       "    }\n",
       "\n",
       "    .dataframe thead th {\n",
       "        text-align: right;\n",
       "    }\n",
       "</style>\n",
       "<table border=\"1\" class=\"dataframe\">\n",
       "  <thead>\n",
       "    <tr style=\"text-align: right;\">\n",
       "      <th></th>\n",
       "      <th>vhigh</th>\n",
       "      <th>vhigh.1</th>\n",
       "      <th>2</th>\n",
       "      <th>2.1</th>\n",
       "      <th>small</th>\n",
       "      <th>low</th>\n",
       "      <th>unacc</th>\n",
       "    </tr>\n",
       "  </thead>\n",
       "  <tbody>\n",
       "    <tr>\n",
       "      <th>0</th>\n",
       "      <td>vhigh</td>\n",
       "      <td>vhigh</td>\n",
       "      <td>2</td>\n",
       "      <td>2</td>\n",
       "      <td>small</td>\n",
       "      <td>med</td>\n",
       "      <td>unacc</td>\n",
       "    </tr>\n",
       "    <tr>\n",
       "      <th>1</th>\n",
       "      <td>vhigh</td>\n",
       "      <td>vhigh</td>\n",
       "      <td>2</td>\n",
       "      <td>2</td>\n",
       "      <td>small</td>\n",
       "      <td>high</td>\n",
       "      <td>unacc</td>\n",
       "    </tr>\n",
       "    <tr>\n",
       "      <th>2</th>\n",
       "      <td>vhigh</td>\n",
       "      <td>vhigh</td>\n",
       "      <td>2</td>\n",
       "      <td>2</td>\n",
       "      <td>med</td>\n",
       "      <td>low</td>\n",
       "      <td>unacc</td>\n",
       "    </tr>\n",
       "    <tr>\n",
       "      <th>3</th>\n",
       "      <td>vhigh</td>\n",
       "      <td>vhigh</td>\n",
       "      <td>2</td>\n",
       "      <td>2</td>\n",
       "      <td>med</td>\n",
       "      <td>med</td>\n",
       "      <td>unacc</td>\n",
       "    </tr>\n",
       "    <tr>\n",
       "      <th>4</th>\n",
       "      <td>vhigh</td>\n",
       "      <td>vhigh</td>\n",
       "      <td>2</td>\n",
       "      <td>2</td>\n",
       "      <td>med</td>\n",
       "      <td>high</td>\n",
       "      <td>unacc</td>\n",
       "    </tr>\n",
       "  </tbody>\n",
       "</table>\n",
       "</div>"
      ]
     },
     "metadata": {},
     "execution_count": 10
    }
   ],
   "metadata": {}
  },
  {
   "cell_type": "code",
   "execution_count": 11,
   "source": [
    "\r\n",
    "  \r\n",
    "# adding header\r\n",
    "headerList = ['buying', 'maint', 'doors','persons','lug_boot','safety','class']\r\n",
    "  \r\n",
    "# converting data frame to csv\r\n",
    "data.to_csv(\"car1.data\", header=headerList, index=False)\r\n",
    "  \r\n"
   ],
   "outputs": [],
   "metadata": {}
  },
  {
   "cell_type": "code",
   "execution_count": 13,
   "source": [
    "data=pd.read_csv('car1.data')#reading new data with header  again "
   ],
   "outputs": [],
   "metadata": {}
  },
  {
   "cell_type": "code",
   "execution_count": 14,
   "source": [
    "data.head()#2nd look"
   ],
   "outputs": [
    {
     "output_type": "execute_result",
     "data": {
      "text/plain": [
       "  buying  maint doors persons lug_boot safety  class\n",
       "0  vhigh  vhigh     2       2    small    med  unacc\n",
       "1  vhigh  vhigh     2       2    small   high  unacc\n",
       "2  vhigh  vhigh     2       2      med    low  unacc\n",
       "3  vhigh  vhigh     2       2      med    med  unacc\n",
       "4  vhigh  vhigh     2       2      med   high  unacc"
      ],
      "text/html": [
       "<div>\n",
       "<style scoped>\n",
       "    .dataframe tbody tr th:only-of-type {\n",
       "        vertical-align: middle;\n",
       "    }\n",
       "\n",
       "    .dataframe tbody tr th {\n",
       "        vertical-align: top;\n",
       "    }\n",
       "\n",
       "    .dataframe thead th {\n",
       "        text-align: right;\n",
       "    }\n",
       "</style>\n",
       "<table border=\"1\" class=\"dataframe\">\n",
       "  <thead>\n",
       "    <tr style=\"text-align: right;\">\n",
       "      <th></th>\n",
       "      <th>buying</th>\n",
       "      <th>maint</th>\n",
       "      <th>doors</th>\n",
       "      <th>persons</th>\n",
       "      <th>lug_boot</th>\n",
       "      <th>safety</th>\n",
       "      <th>class</th>\n",
       "    </tr>\n",
       "  </thead>\n",
       "  <tbody>\n",
       "    <tr>\n",
       "      <th>0</th>\n",
       "      <td>vhigh</td>\n",
       "      <td>vhigh</td>\n",
       "      <td>2</td>\n",
       "      <td>2</td>\n",
       "      <td>small</td>\n",
       "      <td>med</td>\n",
       "      <td>unacc</td>\n",
       "    </tr>\n",
       "    <tr>\n",
       "      <th>1</th>\n",
       "      <td>vhigh</td>\n",
       "      <td>vhigh</td>\n",
       "      <td>2</td>\n",
       "      <td>2</td>\n",
       "      <td>small</td>\n",
       "      <td>high</td>\n",
       "      <td>unacc</td>\n",
       "    </tr>\n",
       "    <tr>\n",
       "      <th>2</th>\n",
       "      <td>vhigh</td>\n",
       "      <td>vhigh</td>\n",
       "      <td>2</td>\n",
       "      <td>2</td>\n",
       "      <td>med</td>\n",
       "      <td>low</td>\n",
       "      <td>unacc</td>\n",
       "    </tr>\n",
       "    <tr>\n",
       "      <th>3</th>\n",
       "      <td>vhigh</td>\n",
       "      <td>vhigh</td>\n",
       "      <td>2</td>\n",
       "      <td>2</td>\n",
       "      <td>med</td>\n",
       "      <td>med</td>\n",
       "      <td>unacc</td>\n",
       "    </tr>\n",
       "    <tr>\n",
       "      <th>4</th>\n",
       "      <td>vhigh</td>\n",
       "      <td>vhigh</td>\n",
       "      <td>2</td>\n",
       "      <td>2</td>\n",
       "      <td>med</td>\n",
       "      <td>high</td>\n",
       "      <td>unacc</td>\n",
       "    </tr>\n",
       "  </tbody>\n",
       "</table>\n",
       "</div>"
      ]
     },
     "metadata": {},
     "execution_count": 14
    }
   ],
   "metadata": {}
  },
  {
   "cell_type": "code",
   "execution_count": 15,
   "source": [
    "le = preprocessing.LabelEncoder()#invoking preprocessor"
   ],
   "outputs": [],
   "metadata": {}
  },
  {
   "cell_type": "code",
   "execution_count": 17,
   "source": [
    "\r\n",
    "#converting list to np.array via appliying fit_transform\r\n",
    "buying = le.fit_transform(list(data[\"buying\"]))\r\n",
    "maint = le.fit_transform(list(data[\"maint\"]))\r\n",
    "door = le.fit_transform(list(data[\"doors\"]))\r\n",
    "persons = le.fit_transform(list(data[\"persons\"]))\r\n",
    "lug_boot = le.fit_transform(list(data[\"lug_boot\"]))\r\n",
    "safety = le.fit_transform(list(data[\"safety\"]))\r\n",
    "cls = le.fit_transform(list(data[\"class\"]))"
   ],
   "outputs": [],
   "metadata": {}
  },
  {
   "cell_type": "code",
   "execution_count": 21,
   "source": [
    "buying"
   ],
   "outputs": [
    {
     "output_type": "execute_result",
     "data": {
      "text/plain": [
       "array([3, 3, 3, ..., 1, 1, 1], dtype=int64)"
      ]
     },
     "metadata": {},
     "execution_count": 21
    }
   ],
   "metadata": {}
  },
  {
   "cell_type": "code",
   "execution_count": 18,
   "source": [
    "X = list(zip(buying, maint, door, persons, lug_boot, safety))  # features\r\n",
    "y = list(cls)  # labels"
   ],
   "outputs": [],
   "metadata": {}
  },
  {
   "cell_type": "code",
   "execution_count": 19,
   "source": [
    "x_train, x_test, y_train, y_test = sklearn.model_selection.train_test_split(X, y, test_size = 0.1)#regular ml model intialization"
   ],
   "outputs": [],
   "metadata": {}
  },
  {
   "cell_type": "code",
   "execution_count": 22,
   "source": [
    "from sklearn.neighbors import KNeighborsClassifier\r\n",
    "\r\n",
    "model = KNeighborsClassifier(n_neighbors=9)#KNN MODEL "
   ],
   "outputs": [],
   "metadata": {}
  },
  {
   "cell_type": "code",
   "execution_count": 23,
   "source": [
    "model.fit(x_train, y_train)"
   ],
   "outputs": [
    {
     "output_type": "execute_result",
     "data": {
      "text/plain": [
       "KNeighborsClassifier(n_neighbors=9)"
      ]
     },
     "metadata": {},
     "execution_count": 23
    }
   ],
   "metadata": {}
  },
  {
   "cell_type": "code",
   "execution_count": 24,
   "source": [
    "acc = model.score(x_test, y_test)#LOOKING @accuracy\r\n",
    "print(acc)"
   ],
   "outputs": [
    {
     "output_type": "stream",
     "name": "stdout",
     "text": [
      "0.953757225433526\n"
     ]
    }
   ],
   "metadata": {}
  },
  {
   "cell_type": "code",
   "execution_count": 27,
   "source": [
    "predicted = model.predict(x_test)\r\n",
    "names = [\"unacc\", \"acc\", \"good\", \"vgood\"]\r\n",
    "\r\n",
    "for x in range(len(predicted)):\r\n",
    "    print(\"Predicted: \", names[predicted[x]], \"Data: \", x_test[x], \"Actual: \", names[y_test[x]])\r\n",
    "    "
   ],
   "outputs": [
    {
     "output_type": "stream",
     "name": "stdout",
     "text": [
      "Predicted:  unacc Data:  (1, 3, 1, 1, 2, 0) Actual:  unacc\n",
      "Predicted:  unacc Data:  (3, 1, 3, 1, 0, 2) Actual:  unacc\n",
      "Predicted:  good Data:  (0, 3, 2, 1, 1, 1) Actual:  good\n",
      "Predicted:  good Data:  (2, 0, 3, 2, 1, 1) Actual:  good\n",
      "Predicted:  good Data:  (1, 2, 1, 1, 0, 1) Actual:  good\n",
      "Predicted:  good Data:  (3, 0, 3, 0, 0, 0) Actual:  good\n",
      "Predicted:  good Data:  (2, 0, 0, 0, 2, 1) Actual:  good\n",
      "Predicted:  good Data:  (3, 3, 2, 0, 2, 0) Actual:  good\n",
      "Predicted:  unacc Data:  (3, 2, 0, 2, 2, 0) Actual:  good\n",
      "Predicted:  good Data:  (3, 1, 1, 0, 0, 1) Actual:  good\n",
      "Predicted:  good Data:  (3, 0, 2, 1, 0, 1) Actual:  good\n",
      "Predicted:  good Data:  (0, 3, 3, 2, 0, 1) Actual:  good\n",
      "Predicted:  good Data:  (0, 2, 0, 0, 0, 2) Actual:  good\n",
      "Predicted:  unacc Data:  (3, 1, 2, 1, 0, 0) Actual:  unacc\n",
      "Predicted:  good Data:  (2, 3, 2, 0, 1, 0) Actual:  good\n",
      "Predicted:  good Data:  (0, 3, 3, 0, 2, 2) Actual:  good\n",
      "Predicted:  unacc Data:  (2, 3, 3, 1, 1, 0) Actual:  unacc\n",
      "Predicted:  good Data:  (3, 0, 0, 2, 0, 0) Actual:  good\n",
      "Predicted:  unacc Data:  (2, 3, 0, 1, 0, 0) Actual:  unacc\n",
      "Predicted:  good Data:  (2, 0, 0, 1, 1, 2) Actual:  good\n",
      "Predicted:  unacc Data:  (1, 0, 1, 1, 1, 0) Actual:  unacc\n",
      "Predicted:  good Data:  (0, 3, 2, 2, 0, 1) Actual:  good\n",
      "Predicted:  good Data:  (2, 1, 1, 0, 2, 1) Actual:  good\n",
      "Predicted:  good Data:  (0, 3, 0, 0, 2, 2) Actual:  good\n",
      "Predicted:  good Data:  (3, 3, 0, 1, 1, 2) Actual:  good\n",
      "Predicted:  unacc Data:  (2, 0, 2, 2, 0, 0) Actual:  unacc\n",
      "Predicted:  good Data:  (3, 3, 2, 1, 1, 0) Actual:  good\n",
      "Predicted:  good Data:  (3, 0, 0, 2, 1, 2) Actual:  good\n",
      "Predicted:  good Data:  (1, 2, 0, 0, 0, 0) Actual:  good\n",
      "Predicted:  good Data:  (2, 3, 3, 1, 1, 1) Actual:  good\n",
      "Predicted:  unacc Data:  (1, 3, 1, 2, 1, 0) Actual:  unacc\n",
      "Predicted:  good Data:  (0, 0, 0, 2, 2, 1) Actual:  good\n",
      "Predicted:  vgood Data:  (2, 2, 3, 2, 0, 0) Actual:  vgood\n",
      "Predicted:  acc Data:  (1, 2, 2, 1, 0, 2) Actual:  acc\n",
      "Predicted:  unacc Data:  (0, 1, 2, 1, 0, 0) Actual:  unacc\n",
      "Predicted:  good Data:  (3, 1, 3, 0, 1, 0) Actual:  good\n",
      "Predicted:  unacc Data:  (1, 2, 0, 1, 0, 2) Actual:  acc\n",
      "Predicted:  good Data:  (1, 1, 2, 0, 1, 1) Actual:  good\n",
      "Predicted:  unacc Data:  (0, 0, 3, 2, 1, 0) Actual:  unacc\n",
      "Predicted:  unacc Data:  (0, 2, 0, 2, 1, 0) Actual:  unacc\n",
      "Predicted:  good Data:  (1, 1, 0, 0, 1, 1) Actual:  good\n",
      "Predicted:  good Data:  (2, 0, 2, 2, 0, 1) Actual:  good\n",
      "Predicted:  good Data:  (2, 0, 0, 2, 2, 2) Actual:  good\n",
      "Predicted:  good Data:  (2, 2, 0, 1, 2, 1) Actual:  good\n",
      "Predicted:  good Data:  (3, 3, 0, 2, 1, 0) Actual:  good\n",
      "Predicted:  unacc Data:  (3, 2, 2, 1, 0, 0) Actual:  unacc\n",
      "Predicted:  good Data:  (0, 2, 2, 1, 1, 1) Actual:  good\n",
      "Predicted:  good Data:  (0, 0, 3, 2, 0, 1) Actual:  good\n",
      "Predicted:  good Data:  (2, 2, 3, 0, 0, 1) Actual:  good\n",
      "Predicted:  good Data:  (2, 1, 0, 0, 2, 2) Actual:  good\n",
      "Predicted:  good Data:  (3, 2, 2, 0, 2, 0) Actual:  good\n",
      "Predicted:  good Data:  (3, 2, 0, 0, 2, 2) Actual:  good\n",
      "Predicted:  good Data:  (2, 2, 1, 2, 1, 1) Actual:  good\n",
      "Predicted:  good Data:  (2, 0, 3, 0, 0, 2) Actual:  good\n",
      "Predicted:  unacc Data:  (1, 2, 3, 1, 2, 0) Actual:  acc\n",
      "Predicted:  good Data:  (1, 3, 2, 2, 2, 1) Actual:  good\n",
      "Predicted:  good Data:  (1, 0, 1, 0, 1, 1) Actual:  good\n",
      "Predicted:  good Data:  (3, 1, 0, 1, 1, 2) Actual:  good\n",
      "Predicted:  unacc Data:  (1, 3, 3, 1, 0, 2) Actual:  unacc\n",
      "Predicted:  good Data:  (1, 1, 1, 0, 1, 1) Actual:  good\n",
      "Predicted:  unacc Data:  (2, 3, 2, 1, 2, 0) Actual:  unacc\n",
      "Predicted:  good Data:  (2, 2, 1, 0, 0, 0) Actual:  good\n",
      "Predicted:  unacc Data:  (2, 2, 0, 1, 1, 2) Actual:  unacc\n",
      "Predicted:  good Data:  (3, 0, 3, 2, 2, 1) Actual:  good\n",
      "Predicted:  good Data:  (0, 1, 0, 2, 2, 1) Actual:  good\n",
      "Predicted:  good Data:  (3, 3, 2, 0, 1, 1) Actual:  good\n",
      "Predicted:  good Data:  (3, 0, 2, 0, 1, 0) Actual:  good\n",
      "Predicted:  good Data:  (2, 0, 2, 0, 0, 1) Actual:  good\n",
      "Predicted:  unacc Data:  (3, 2, 3, 1, 1, 2) Actual:  unacc\n",
      "Predicted:  good Data:  (3, 0, 1, 2, 0, 2) Actual:  good\n",
      "Predicted:  good Data:  (1, 1, 3, 0, 1, 1) Actual:  good\n",
      "Predicted:  unacc Data:  (0, 0, 1, 1, 2, 0) Actual:  unacc\n",
      "Predicted:  good Data:  (1, 0, 0, 2, 0, 1) Actual:  good\n",
      "Predicted:  good Data:  (3, 3, 1, 0, 0, 1) Actual:  good\n",
      "Predicted:  unacc Data:  (3, 1, 2, 2, 1, 2) Actual:  unacc\n",
      "Predicted:  good Data:  (0, 2, 2, 2, 0, 1) Actual:  good\n",
      "Predicted:  good Data:  (3, 2, 0, 2, 1, 1) Actual:  good\n",
      "Predicted:  good Data:  (2, 3, 3, 0, 0, 2) Actual:  good\n",
      "Predicted:  unacc Data:  (2, 0, 2, 2, 1, 0) Actual:  unacc\n",
      "Predicted:  unacc Data:  (3, 2, 2, 1, 0, 2) Actual:  unacc\n",
      "Predicted:  good Data:  (0, 2, 2, 0, 0, 1) Actual:  good\n",
      "Predicted:  unacc Data:  (0, 1, 2, 2, 2, 0) Actual:  unacc\n",
      "Predicted:  good Data:  (0, 2, 3, 0, 1, 2) Actual:  good\n",
      "Predicted:  good Data:  (1, 2, 0, 1, 1, 1) Actual:  good\n",
      "Predicted:  good Data:  (0, 3, 2, 2, 1, 1) Actual:  good\n",
      "Predicted:  unacc Data:  (2, 3, 1, 1, 0, 2) Actual:  unacc\n",
      "Predicted:  unacc Data:  (1, 1, 0, 1, 1, 0) Actual:  acc\n",
      "Predicted:  good Data:  (1, 2, 1, 0, 1, 0) Actual:  good\n",
      "Predicted:  good Data:  (1, 1, 2, 0, 2, 2) Actual:  good\n",
      "Predicted:  unacc Data:  (3, 2, 1, 1, 0, 2) Actual:  unacc\n",
      "Predicted:  good Data:  (0, 0, 0, 1, 1, 2) Actual:  good\n",
      "Predicted:  unacc Data:  (2, 2, 1, 2, 2, 2) Actual:  unacc\n",
      "Predicted:  good Data:  (0, 1, 0, 0, 1, 1) Actual:  good\n",
      "Predicted:  good Data:  (0, 3, 2, 0, 0, 2) Actual:  good\n",
      "Predicted:  good Data:  (3, 1, 3, 1, 0, 1) Actual:  good\n",
      "Predicted:  good Data:  (0, 2, 2, 0, 0, 0) Actual:  good\n",
      "Predicted:  good Data:  (3, 2, 0, 0, 2, 0) Actual:  good\n",
      "Predicted:  good Data:  (0, 0, 0, 0, 1, 1) Actual:  good\n",
      "Predicted:  vgood Data:  (1, 1, 1, 2, 0, 0) Actual:  vgood\n",
      "Predicted:  good Data:  (3, 3, 1, 1, 1, 1) Actual:  good\n",
      "Predicted:  good Data:  (1, 1, 1, 2, 1, 1) Actual:  good\n",
      "Predicted:  good Data:  (1, 3, 1, 1, 1, 2) Actual:  good\n",
      "Predicted:  good Data:  (2, 3, 3, 1, 2, 1) Actual:  good\n",
      "Predicted:  good Data:  (3, 3, 3, 0, 1, 0) Actual:  good\n",
      "Predicted:  good Data:  (2, 2, 2, 0, 2, 2) Actual:  good\n",
      "Predicted:  unacc Data:  (3, 2, 3, 2, 1, 0) Actual:  unacc\n",
      "Predicted:  good Data:  (0, 0, 2, 2, 2, 2) Actual:  good\n",
      "Predicted:  good Data:  (0, 1, 3, 2, 1, 1) Actual:  good\n",
      "Predicted:  good Data:  (0, 1, 2, 2, 2, 1) Actual:  good\n",
      "Predicted:  good Data:  (1, 1, 2, 1, 2, 1) Actual:  good\n",
      "Predicted:  good Data:  (2, 1, 0, 2, 2, 1) Actual:  good\n",
      "Predicted:  good Data:  (0, 3, 3, 2, 1, 0) Actual:  good\n",
      "Predicted:  good Data:  (3, 3, 1, 2, 2, 2) Actual:  good\n",
      "Predicted:  good Data:  (0, 1, 0, 2, 1, 1) Actual:  good\n",
      "Predicted:  good Data:  (3, 3, 0, 0, 1, 1) Actual:  good\n",
      "Predicted:  good Data:  (2, 1, 2, 2, 1, 1) Actual:  good\n",
      "Predicted:  good Data:  (0, 0, 0, 1, 0, 1) Actual:  good\n",
      "Predicted:  good Data:  (0, 2, 1, 2, 2, 2) Actual:  good\n",
      "Predicted:  good Data:  (2, 3, 1, 0, 0, 2) Actual:  good\n",
      "Predicted:  good Data:  (0, 3, 0, 0, 0, 2) Actual:  good\n",
      "Predicted:  good Data:  (0, 0, 0, 0, 2, 0) Actual:  good\n",
      "Predicted:  unacc Data:  (1, 3, 1, 1, 0, 0) Actual:  unacc\n",
      "Predicted:  good Data:  (0, 3, 0, 2, 1, 0) Actual:  good\n",
      "Predicted:  vgood Data:  (1, 1, 0, 2, 1, 0) Actual:  acc\n",
      "Predicted:  good Data:  (3, 3, 1, 2, 0, 2) Actual:  good\n",
      "Predicted:  good Data:  (2, 0, 1, 2, 0, 1) Actual:  good\n",
      "Predicted:  good Data:  (3, 1, 0, 2, 0, 1) Actual:  good\n",
      "Predicted:  good Data:  (3, 2, 2, 0, 1, 2) Actual:  good\n",
      "Predicted:  good Data:  (0, 3, 0, 0, 1, 2) Actual:  good\n",
      "Predicted:  good Data:  (2, 3, 2, 0, 1, 1) Actual:  good\n",
      "Predicted:  good Data:  (2, 2, 3, 1, 1, 2) Actual:  unacc\n",
      "Predicted:  unacc Data:  (1, 1, 0, 1, 2, 0) Actual:  acc\n",
      "Predicted:  good Data:  (2, 3, 0, 1, 0, 1) Actual:  good\n",
      "Predicted:  acc Data:  (1, 1, 3, 2, 1, 2) Actual:  acc\n",
      "Predicted:  good Data:  (2, 2, 2, 0, 0, 1) Actual:  good\n",
      "Predicted:  acc Data:  (1, 2, 1, 2, 0, 2) Actual:  acc\n",
      "Predicted:  good Data:  (1, 1, 3, 0, 0, 1) Actual:  good\n",
      "Predicted:  good Data:  (3, 2, 3, 0, 0, 2) Actual:  good\n",
      "Predicted:  good Data:  (3, 2, 3, 1, 1, 1) Actual:  good\n",
      "Predicted:  unacc Data:  (0, 2, 0, 1, 0, 0) Actual:  unacc\n",
      "Predicted:  unacc Data:  (2, 0, 3, 1, 2, 0) Actual:  unacc\n",
      "Predicted:  good Data:  (0, 1, 0, 1, 2, 2) Actual:  good\n",
      "Predicted:  good Data:  (2, 2, 0, 2, 2, 2) Actual:  good\n",
      "Predicted:  unacc Data:  (2, 1, 0, 1, 1, 2) Actual:  unacc\n",
      "Predicted:  unacc Data:  (0, 0, 2, 2, 1, 2) Actual:  unacc\n",
      "Predicted:  unacc Data:  (2, 2, 3, 2, 1, 2) Actual:  unacc\n",
      "Predicted:  good Data:  (3, 2, 0, 0, 1, 2) Actual:  good\n",
      "Predicted:  good Data:  (2, 2, 0, 1, 0, 1) Actual:  good\n",
      "Predicted:  good Data:  (3, 0, 2, 0, 0, 0) Actual:  good\n",
      "Predicted:  good Data:  (3, 1, 1, 1, 1, 2) Actual:  good\n",
      "Predicted:  unacc Data:  (0, 1, 0, 2, 2, 0) Actual:  good\n",
      "Predicted:  good Data:  (0, 2, 2, 0, 2, 2) Actual:  good\n",
      "Predicted:  good Data:  (3, 1, 2, 1, 2, 2) Actual:  good\n",
      "Predicted:  good Data:  (0, 3, 3, 0, 1, 0) Actual:  good\n",
      "Predicted:  good Data:  (3, 3, 1, 0, 1, 2) Actual:  good\n",
      "Predicted:  good Data:  (0, 1, 1, 0, 0, 2) Actual:  good\n",
      "Predicted:  good Data:  (3, 1, 1, 0, 0, 2) Actual:  good\n",
      "Predicted:  good Data:  (3, 3, 0, 2, 2, 2) Actual:  good\n",
      "Predicted:  good Data:  (2, 3, 2, 0, 2, 0) Actual:  good\n",
      "Predicted:  good Data:  (0, 0, 2, 1, 0, 1) Actual:  good\n",
      "Predicted:  good Data:  (1, 0, 2, 1, 1, 1) Actual:  good\n",
      "Predicted:  good Data:  (3, 1, 3, 2, 0, 1) Actual:  good\n",
      "Predicted:  good Data:  (0, 2, 2, 1, 0, 1) Actual:  good\n",
      "Predicted:  good Data:  (2, 2, 3, 2, 2, 1) Actual:  good\n",
      "Predicted:  good Data:  (2, 3, 3, 2, 2, 2) Actual:  good\n",
      "Predicted:  unacc Data:  (2, 0, 0, 2, 1, 0) Actual:  unacc\n",
      "Predicted:  acc Data:  (1, 1, 2, 1, 2, 0) Actual:  acc\n",
      "Predicted:  good Data:  (2, 0, 3, 1, 1, 1) Actual:  good\n",
      "Predicted:  good Data:  (3, 0, 3, 0, 2, 2) Actual:  good\n",
      "Predicted:  unacc Data:  (3, 1, 3, 2, 0, 0) Actual:  unacc\n",
      "Predicted:  good Data:  (2, 2, 1, 0, 0, 2) Actual:  good\n",
      "Predicted:  unacc Data:  (2, 2, 3, 1, 0, 2) Actual:  unacc\n",
      "Predicted:  good Data:  (2, 3, 0, 0, 0, 1) Actual:  good\n"
     ]
    }
   ],
   "metadata": {}
  }
 ],
 "metadata": {
  "orig_nbformat": 4,
  "language_info": {
   "name": "python",
   "version": "3.8.8",
   "mimetype": "text/x-python",
   "codemirror_mode": {
    "name": "ipython",
    "version": 3
   },
   "pygments_lexer": "ipython3",
   "nbconvert_exporter": "python",
   "file_extension": ".py"
  },
  "kernelspec": {
   "name": "python3",
   "display_name": "Python 3.8.8 64-bit ('base': conda)"
  },
  "interpreter": {
   "hash": "3187c250c483efdde8c5c0deee7dc01afe085a7d18850755f3ebaab9e705eb18"
  }
 },
 "nbformat": 4,
 "nbformat_minor": 2
}