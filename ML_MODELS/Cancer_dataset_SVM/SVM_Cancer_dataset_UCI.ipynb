{
 "cells": [
  {
   "cell_type": "code",
   "execution_count": 1,
   "source": [
    "\r\n",
    "\r\n",
    "#importing all the required modules\r\n",
    "import sklearn\r\n",
    "from sklearn import svm\r\n",
    "from sklearn import metrics\r\n",
    "from sklearn.neighbors import KNeighborsClassifier\r\n",
    "import numpy as np\r\n",
    "import pandas as pd\r\n",
    "from sklearn import linear_model,preprocessing"
   ],
   "outputs": [],
   "metadata": {}
  },
  {
   "cell_type": "code",
   "execution_count": 3,
   "source": [
    "cancer=pd.read_csv('breast-cancer.data')"
   ],
   "outputs": [],
   "metadata": {}
  },
  {
   "cell_type": "code",
   "execution_count": 4,
   "source": [
    "cancer.head(0)"
   ],
   "outputs": [
    {
     "output_type": "execute_result",
     "data": {
      "text/plain": [
       "Empty DataFrame\n",
       "Columns: [no-recurrence-events, 30-39, premeno, 30-34, 0-2, no, 3, left, left_low, no.1]\n",
       "Index: []"
      ],
      "text/html": [
       "<div>\n",
       "<style scoped>\n",
       "    .dataframe tbody tr th:only-of-type {\n",
       "        vertical-align: middle;\n",
       "    }\n",
       "\n",
       "    .dataframe tbody tr th {\n",
       "        vertical-align: top;\n",
       "    }\n",
       "\n",
       "    .dataframe thead th {\n",
       "        text-align: right;\n",
       "    }\n",
       "</style>\n",
       "<table border=\"1\" class=\"dataframe\">\n",
       "  <thead>\n",
       "    <tr style=\"text-align: right;\">\n",
       "      <th></th>\n",
       "      <th>no-recurrence-events</th>\n",
       "      <th>30-39</th>\n",
       "      <th>premeno</th>\n",
       "      <th>30-34</th>\n",
       "      <th>0-2</th>\n",
       "      <th>no</th>\n",
       "      <th>3</th>\n",
       "      <th>left</th>\n",
       "      <th>left_low</th>\n",
       "      <th>no.1</th>\n",
       "    </tr>\n",
       "  </thead>\n",
       "  <tbody>\n",
       "  </tbody>\n",
       "</table>\n",
       "</div>"
      ]
     },
     "metadata": {},
     "execution_count": 4
    }
   ],
   "metadata": {}
  },
  {
   "cell_type": "code",
   "execution_count": 5,
   "source": [
    "headerList=['Class','age','menopause','tumor-size','inv-nodes','node-caps','deg-malig',\r\n",
    "'breast','breast-quad','irradiat']"
   ],
   "outputs": [],
   "metadata": {}
  },
  {
   "cell_type": "code",
   "execution_count": 7,
   "source": [
    "cancer.to_csv('cancer1.csv',header=headerList,index=False)"
   ],
   "outputs": [],
   "metadata": {}
  },
  {
   "cell_type": "code",
   "execution_count": 9,
   "source": [
    "data=pd.read_csv('cancer1.csv')"
   ],
   "outputs": [],
   "metadata": {}
  },
  {
   "cell_type": "code",
   "execution_count": 10,
   "source": [
    "data.head()"
   ],
   "outputs": [
    {
     "output_type": "execute_result",
     "data": {
      "text/plain": [
       "                  Class    age menopause tumor-size inv-nodes node-caps  \\\n",
       "0  no-recurrence-events  40-49   premeno      20-24       0-2        no   \n",
       "1  no-recurrence-events  40-49   premeno      20-24       0-2        no   \n",
       "2  no-recurrence-events  60-69      ge40      15-19       0-2        no   \n",
       "3  no-recurrence-events  40-49   premeno        0-4       0-2        no   \n",
       "4  no-recurrence-events  60-69      ge40      15-19       0-2        no   \n",
       "\n",
       "   deg-malig breast breast-quad irradiat  \n",
       "0          2  right    right_up       no  \n",
       "1          2   left    left_low       no  \n",
       "2          2  right     left_up       no  \n",
       "3          2  right   right_low       no  \n",
       "4          2   left    left_low       no  "
      ],
      "text/html": [
       "<div>\n",
       "<style scoped>\n",
       "    .dataframe tbody tr th:only-of-type {\n",
       "        vertical-align: middle;\n",
       "    }\n",
       "\n",
       "    .dataframe tbody tr th {\n",
       "        vertical-align: top;\n",
       "    }\n",
       "\n",
       "    .dataframe thead th {\n",
       "        text-align: right;\n",
       "    }\n",
       "</style>\n",
       "<table border=\"1\" class=\"dataframe\">\n",
       "  <thead>\n",
       "    <tr style=\"text-align: right;\">\n",
       "      <th></th>\n",
       "      <th>Class</th>\n",
       "      <th>age</th>\n",
       "      <th>menopause</th>\n",
       "      <th>tumor-size</th>\n",
       "      <th>inv-nodes</th>\n",
       "      <th>node-caps</th>\n",
       "      <th>deg-malig</th>\n",
       "      <th>breast</th>\n",
       "      <th>breast-quad</th>\n",
       "      <th>irradiat</th>\n",
       "    </tr>\n",
       "  </thead>\n",
       "  <tbody>\n",
       "    <tr>\n",
       "      <th>0</th>\n",
       "      <td>no-recurrence-events</td>\n",
       "      <td>40-49</td>\n",
       "      <td>premeno</td>\n",
       "      <td>20-24</td>\n",
       "      <td>0-2</td>\n",
       "      <td>no</td>\n",
       "      <td>2</td>\n",
       "      <td>right</td>\n",
       "      <td>right_up</td>\n",
       "      <td>no</td>\n",
       "    </tr>\n",
       "    <tr>\n",
       "      <th>1</th>\n",
       "      <td>no-recurrence-events</td>\n",
       "      <td>40-49</td>\n",
       "      <td>premeno</td>\n",
       "      <td>20-24</td>\n",
       "      <td>0-2</td>\n",
       "      <td>no</td>\n",
       "      <td>2</td>\n",
       "      <td>left</td>\n",
       "      <td>left_low</td>\n",
       "      <td>no</td>\n",
       "    </tr>\n",
       "    <tr>\n",
       "      <th>2</th>\n",
       "      <td>no-recurrence-events</td>\n",
       "      <td>60-69</td>\n",
       "      <td>ge40</td>\n",
       "      <td>15-19</td>\n",
       "      <td>0-2</td>\n",
       "      <td>no</td>\n",
       "      <td>2</td>\n",
       "      <td>right</td>\n",
       "      <td>left_up</td>\n",
       "      <td>no</td>\n",
       "    </tr>\n",
       "    <tr>\n",
       "      <th>3</th>\n",
       "      <td>no-recurrence-events</td>\n",
       "      <td>40-49</td>\n",
       "      <td>premeno</td>\n",
       "      <td>0-4</td>\n",
       "      <td>0-2</td>\n",
       "      <td>no</td>\n",
       "      <td>2</td>\n",
       "      <td>right</td>\n",
       "      <td>right_low</td>\n",
       "      <td>no</td>\n",
       "    </tr>\n",
       "    <tr>\n",
       "      <th>4</th>\n",
       "      <td>no-recurrence-events</td>\n",
       "      <td>60-69</td>\n",
       "      <td>ge40</td>\n",
       "      <td>15-19</td>\n",
       "      <td>0-2</td>\n",
       "      <td>no</td>\n",
       "      <td>2</td>\n",
       "      <td>left</td>\n",
       "      <td>left_low</td>\n",
       "      <td>no</td>\n",
       "    </tr>\n",
       "  </tbody>\n",
       "</table>\n",
       "</div>"
      ]
     },
     "metadata": {},
     "execution_count": 10
    }
   ],
   "metadata": {}
  },
  {
   "cell_type": "code",
   "execution_count": 26,
   "source": [
    "data['irradiat'].value_counts()"
   ],
   "outputs": [
    {
     "output_type": "execute_result",
     "data": {
      "text/plain": [
       "no     217\n",
       "yes     68\n",
       "Name: irradiat, dtype: int64"
      ]
     },
     "metadata": {},
     "execution_count": 26
    }
   ],
   "metadata": {}
  },
  {
   "cell_type": "code",
   "execution_count": 18,
   "source": [
    "data.columns"
   ],
   "outputs": [
    {
     "output_type": "execute_result",
     "data": {
      "text/plain": [
       "Index(['Class', 'age', 'menopause', 'tumor-size', 'inv-nodes', 'node-caps',\n",
       "       'deg-malig', 'breast', 'breast-quad', 'irradiat'],\n",
       "      dtype='object')"
      ]
     },
     "metadata": {},
     "execution_count": 18
    }
   ],
   "metadata": {}
  },
  {
   "cell_type": "code",
   "execution_count": 14,
   "source": [
    "le=preprocessing.LabelEncoder()#invoking preprocessor"
   ],
   "outputs": [],
   "metadata": {}
  },
  {
   "cell_type": "code",
   "execution_count": 17,
   "source": [
    "\r\n",
    "#converting list to np.array via appliying fit_transform\r\n",
    "Class = le.fit_transform(list(data[\"Class\"]))\r\n",
    "age = le.fit_transform(list(data[\"age\"]))\r\n",
    "menopause = le.fit_transform(list(data[\"menopause\"]))\r\n",
    "tumor_size = le.fit_transform(list(data[\"tumor-size\"]))\r\n",
    "inv_nodes = le.fit_transform(list(data[\"inv-nodes\"]))\r\n",
    "node_caps = le.fit_transform(list(data[\"node-caps\"]))\r\n",
    "deg_malig = le.fit_transform(list(data[\"deg-malig\"]))\r\n",
    "breast = le.fit_transform(list(data[\"breast\"]))\r\n",
    "breast_quad = le.fit_transform(list(data[\"breast-quad\"]))\r\n",
    "irradiat = le.fit_transform(list(data[\"irradiat\"]))"
   ],
   "outputs": [],
   "metadata": {}
  },
  {
   "cell_type": "code",
   "execution_count": 19,
   "source": [
    "X = list(zip(Class, age, menopause, tumor_size, inv_nodes, node_caps,\r\n",
    "       deg_malig, breast, breast_quad, irradiat))  # features\r\n",
    "y = list(irradiat)  # labels"
   ],
   "outputs": [],
   "metadata": {}
  },
  {
   "cell_type": "code",
   "execution_count": 20,
   "source": [
    "x_train, x_test, y_train, y_test = sklearn.model_selection.train_test_split(X, y, test_size = 0.1)#regular ml model intialization"
   ],
   "outputs": [],
   "metadata": {}
  },
  {
   "cell_type": "code",
   "execution_count": 21,
   "source": [
    "clf = svm.SVC()\r\n",
    "clf.fit(x_train, y_train)"
   ],
   "outputs": [
    {
     "output_type": "execute_result",
     "data": {
      "text/plain": [
       "SVC()"
      ]
     },
     "metadata": {},
     "execution_count": 21
    }
   ],
   "metadata": {}
  },
  {
   "cell_type": "code",
   "execution_count": 22,
   "source": [
    "from sklearn import metrics\r\n",
    "\r\n",
    "y_pred = clf.predict(x_test) # Predict values for our test data\r\n",
    "\r\n",
    "acc = metrics.accuracy_score(y_test, y_pred) # Test them against our correct values"
   ],
   "outputs": [],
   "metadata": {}
  },
  {
   "cell_type": "code",
   "execution_count": 24,
   "source": [
    "print(acc)"
   ],
   "outputs": [
    {
     "output_type": "stream",
     "name": "stdout",
     "text": [
      "1.0\n"
     ]
    }
   ],
   "metadata": {}
  },
  {
   "cell_type": "code",
   "execution_count": 33,
   "source": [
    "#clf = svm.SVC(kernel=\"linear\")\r\n",
    "clf = KNeighborsClassifier(n_neighbors=11)#looking for KNN "
   ],
   "outputs": [],
   "metadata": {}
  },
  {
   "cell_type": "code",
   "execution_count": 34,
   "source": [
    "clf.fit(x_train, y_train)\r\n",
    "\r\n",
    "y_pred = clf.predict(x_test) # Predict values for our test data\r\n",
    "\r\n",
    "acc = metrics.accuracy_score(y_test, y_pred) # Test them against our correct values"
   ],
   "outputs": [],
   "metadata": {}
  },
  {
   "cell_type": "code",
   "execution_count": 35,
   "source": [
    "print(acc)"
   ],
   "outputs": [
    {
     "output_type": "stream",
     "name": "stdout",
     "text": [
      "0.896551724137931\n"
     ]
    }
   ],
   "metadata": {}
  },
  {
   "cell_type": "code",
   "execution_count": null,
   "source": [],
   "outputs": [],
   "metadata": {}
  }
 ],
 "metadata": {
  "orig_nbformat": 4,
  "language_info": {
   "name": "python",
   "version": "3.8.8",
   "mimetype": "text/x-python",
   "codemirror_mode": {
    "name": "ipython",
    "version": 3
   },
   "pygments_lexer": "ipython3",
   "nbconvert_exporter": "python",
   "file_extension": ".py"
  },
  "kernelspec": {
   "name": "python3",
   "display_name": "Python 3.8.8 64-bit ('base': conda)"
  },
  "interpreter": {
   "hash": "3187c250c483efdde8c5c0deee7dc01afe085a7d18850755f3ebaab9e705eb18"
  }
 },
 "nbformat": 4,
 "nbformat_minor": 2
}